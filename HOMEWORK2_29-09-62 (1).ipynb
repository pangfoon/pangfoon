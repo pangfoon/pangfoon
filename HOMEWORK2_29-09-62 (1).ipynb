{
 "cells": [
  {
   "cell_type": "code",
   "execution_count": 3,
   "metadata": {},
   "outputs": [
    {
     "name": "stdout",
     "output_type": "stream",
     "text": [
      "BODY_WEIGHT:73\n",
      "TOTAL= 1.387 Kg.\n"
     ]
    }
   ],
   "source": [
    "#โจทย์ โดยเฉลี่ยแล้วน้ำหนักสมองของคนเป็น 0.019 เท่าของตัว จงหาว่าสมองของนักศึกษาหนักประมาณเท่าไหร่\n",
    "\n",
    "BrainWeight=0.019\n",
    "BODY_WEIGHT=float(input(\"BODY_WEIGHT:\"))\n",
    "WEIGHT=BODY_WEIGHT*BrainWeight\n",
    "print(\"TOTAL=\",WEIGHT,\"Kg.\")"
   ]
  },
  {
   "cell_type": "code",
   "execution_count": 5,
   "metadata": {},
   "outputs": [
    {
     "name": "stdout",
     "output_type": "stream",
     "text": [
      "NUMBER OF LAND: 70\n",
      "LAND PLOTS: 112000\n"
     ]
    }
   ],
   "source": [
    "#โจทย์ให้แปลงจำนวนที่ดินจากไร่ให้เป็นตารางเมตร โดยกำหนดให้ 1 ไร่ = 1600 ตารางเมตร \n",
    "\n",
    "LAND =int(input(\"NUMBER OF LAND: \"))\n",
    "LAND1=LAND*1600\n",
    "print(\"LAND PLOTS:\" , LAND1)"
   ]
  },
  {
   "cell_type": "code",
   "execution_count": 11,
   "metadata": {},
   "outputs": [
    {
     "name": "stdout",
     "output_type": "stream",
     "text": [
      "SHIRT PRICE=300\n",
      "NOT ENOUGH MONEY\n"
     ]
    }
   ],
   "source": [
    "#โจทย์ if else \n",
    "#ร้านขายเสื้อยี่ห้อหนึ่ง ขายเสื้อตัวละ 475 บาท ถ้าซื้อ 1 ตัวลดราคา 10% ถ้าเรามีเงิน 450 เราสามารถซื้อได้หรือไม่\n",
    "\n",
    "SALE=0.1 # มาจาก 10/100 คือจำนวนที่ลดราคา\n",
    "MONEY=int(input(\"MONEY=\"))\n",
    "sale=MONEY*0.1\n",
    "DISCOUNT=MONEY-sale\n",
    "if DISCOUNT >= 450:\n",
    "    print(\"TOTAL SALE=\", DISCOUNT, \"BAHT\")\n",
    "else:\n",
    "    print(\"NOT ENOUGH MONEY\")"
   ]
  },
  {
   "cell_type": "code",
   "execution_count": 62,
   "metadata": {},
   "outputs": [
    {
     "name": "stdout",
     "output_type": "stream",
     "text": [
      "MONEY=1600\n",
      "คุณสามารถซื้อได้ 3 ตัว\n"
     ]
    }
   ],
   "source": [
    "#โจทย์ if elif else \n",
    "#ร้านของเสื้อยี่ห้อหนึ่ง ขายเสื้อตัวละ 650 บาท แต่ตอนนี้อยู่ในช่วงโปรโมชั่นลดราคา 20% ถ้าเรามีเงิน 1ุ600 บาทเราสามารถซื้อได้กี่ตัว\n",
    "\n",
    "SALE=0.2 # มาจาก 20/100 คือจำนวนที่ลดราคา\n",
    "MONEY=int(input(\"MONEY=\"))\n",
    "sale=MONEY*0.2\n",
    "DISCOUNT=MONEY-sale\n",
    "if DISCOUNT <= 600:\n",
    "    print(\"คุณสามารถซื้อได้ 1 ตัว\")\n",
    "elif DISCOUNT <= 1200:\n",
    "    print(\"คุณสามารถซื้อได้ 2 ตัว\")\n",
    "elif DISCOUNT <= 1600:\n",
    "    print(\"คุณสามารถซื้อได้ 3 ตัว\")\n",
    "\n",
    "else:\n",
    "    print(\"จำนวนเงินคุณไม่พอ\")"
   ]
  },
  {
   "cell_type": "code",
   "execution_count": 71,
   "metadata": {},
   "outputs": [
    {
     "name": "stdout",
     "output_type": "stream",
     "text": [
      "ENTER NUMBER :60\n",
      "ENTER NUMBER :58\n",
      "ENTER NUMBER :30\n",
      "ENTER NUMBER :-1\n",
      "MAX NUMBER 60\n"
     ]
    }
   ],
   "source": [
    "#โจทย์ รับตัวเลขจำนวนเต็มเข้ามาโดยไมม่จำนวนครั้งจนกว่าเราจะป้อนจำวนวที่น้อยกว่า 0 ถึงจะหยุดการทำงานแล้วแสดงจำนวนที่มีค่ามากที่สุดที่เราป้อยเข้ามา\n",
    "max=0\n",
    "num=int(input(\"ENTER NUMBER :\"))\n",
    "while num>0:\n",
    "    if num>max:\n",
    "        max=num\n",
    "    num=int(input(\"ENTER NUMBER :\"))\n",
    "print(\"MAX NUMBER\", max)\n",
    "    "
   ]
  },
  {
   "cell_type": "code",
   "execution_count": 73,
   "metadata": {},
   "outputs": [
    {
     "name": "stdout",
     "output_type": "stream",
     "text": [
      "คนงานที่กำหนด6\n",
      "เวลาที่กำหนด:24\n",
      "จำนวนคนงานที่ทำ:2\n",
      "จำนวนเลาที่ทำความาสะอาด = 72.0 ชั่วโมง\n"
     ]
    }
   ],
   "source": [
    "#โจทย์ ถ้าคนงาน 6 คน ทำความสะอาดห้องเรียนภายในเวลา 24 ชั่วโมง แล้วถ้ามีคนงานแค่ 2 คน จะต้องใช้ระยะเวลาเท่าใดในการทำความสะอาดห้อง\n",
    "\n",
    "Person=int(input(\"คนงานที่กำหนด\")) # 6 คน\n",
    "Hour=int(input(\"เวลาที่กำหนด:\")) # 24 ชั่โมง\n",
    "Worker=int(input(\"จำนวนคนงานที่ทำ:\")) #จำนวนที่เราต้องการหา\n",
    "Total=(Person*Hour)/Worker\n",
    "print(\"จำนวนเลาที่ทำความาสะอาด =\", Total ,\"ชั่วโมง\")"
   ]
  },
  {
   "cell_type": "code",
   "execution_count": 76,
   "metadata": {},
   "outputs": [
    {
     "name": "stdout",
     "output_type": "stream",
     "text": [
      "จำนวนส้มที่กำหนดราคา:5\n",
      "จำนวนเงินที่กำหนด:250\n",
      "จำนวนที่เราต้องการซื้อ:15\n",
      "เราต้องจ่ายเงินทั้งหมด= 750.0 บาท\n"
     ]
    }
   ],
   "source": [
    "#โจทย์ ซื้อส้ม 5 กิโลกรัม เป็นเงิน 250 บาท ถ้าซื้อส้ม 15 กิโลกรัม จะต้องจ่ายเงินเท่าไหร่\n",
    "\n",
    "Amount=int(input(\"จำนวนส้มที่กำหนดราคา:\"))\n",
    "Price=int(input(\"จำนวนเงินที่กำหนด:\"))\n",
    "AM=int(input(\"จำนวนที่เราต้องการซื้อ:\"))\n",
    "total=Price/Amount\n",
    "total1=AM*total\n",
    "print(\"เราต้องจ่ายเงินทั้งหมด=\", total1, \"บาท\")"
   ]
  },
  {
   "cell_type": "code",
   "execution_count": 77,
   "metadata": {},
   "outputs": [
    {
     "name": "stdout",
     "output_type": "stream",
     "text": [
      " MONEY :50000\n",
      "แลกได้= 2541.037759821111 NZD\n"
     ]
    }
   ],
   "source": [
    "#โจทย์ สมมุติว่าเดือนหน้า เราจะเดินทางไปนิวซีแลน มีเงินไทยอยู่ 50000 บาท จะแลกเป็นเงินสกุลของนิวซีแลนได้เท่าไหร่\n",
    "#กำหนดให้ สกุลเงินนิวซีแลนคืิ NZD มีค่าเท่ากับ  1 NZD = 19.6770 บาท\n",
    "\n",
    "NZD=19.6770 \n",
    "Money=int(input(\" MONEY :\"))\n",
    "ThaiMoney=Money/NZD\n",
    "print(\"แลกได้=\",ThaiMoney, \"NZD\")\n"
   ]
  },
  {
   "cell_type": "code",
   "execution_count": 80,
   "metadata": {},
   "outputs": [
    {
     "name": "stdout",
     "output_type": "stream",
     "text": [
      " MONEY :372\n",
      "แลกได้= 2920.2 บาท\n"
     ]
    }
   ],
   "source": [
    "#โจทย์  รับค่าจำนวนเงินสกุลริงกิต ประเทศมาเลเซียเข้า จากนำมาแปลงให้เป็นจำนวนเงินสกุลบาท เงินไทย\n",
    "#กำหนดให้ 1 ริงกิต = 7.85 บาท\n",
    "\n",
    "MA=7.85 \n",
    "Money=int(input(\" MONEY :\"))\n",
    "ThaiMoney= Money*MA\n",
    "print(\"แลกได้=\",ThaiMoney, \"บาท\")"
   ]
  },
  {
   "cell_type": "code",
   "execution_count": 81,
   "metadata": {},
   "outputs": [
    {
     "name": "stdout",
     "output_type": "stream",
     "text": [
      "Enter A in range 10-30 :   28\n",
      "Enter B in range 2-12 :   4\n",
      "12   16   20   24   28   "
     ]
    }
   ],
   "source": [
    "#โจทย์ for\n",
    "# โจทย์ให้นักศึกษากำหนดค่าตัวเลขมา 1 จำนวน ตั้งแต่ 10-30 เป็นตัวแปร A จากนั้นให้เลือกตัวเลขตั้งแต่ 2-12 มา 1 จำนวน \n",
    "#เป็นตัวแปร B แล้วให้หาว่า ตัวแปร B สามารถหารจำนวนในช่วงที่ 15-A ใดแล้วมีเศษเป็น 0 บ้าง จงแสดงจำนวนทั้งหมดนั้น  \n",
    "\n",
    "A = int(input(\"Enter A in range 10-30 :   \"))\n",
    "B = int(input(\"Enter B in range 2-12 :   \")) \n",
    "for C in range(10,A+1): \n",
    "    if C%B == 0:         \n",
    "        print(C,end='   ')"
   ]
  },
  {
   "cell_type": "code",
   "execution_count": null,
   "metadata": {},
   "outputs": [],
   "source": []
  }
 ],
 "metadata": {
  "kernelspec": {
   "display_name": "Python 3",
   "language": "python",
   "name": "python3"
  },
  "language_info": {
   "codemirror_mode": {
    "name": "ipython",
    "version": 3
   },
   "file_extension": ".py",
   "mimetype": "text/x-python",
   "name": "python",
   "nbconvert_exporter": "python",
   "pygments_lexer": "ipython3",
   "version": "3.7.4"
  }
 },
 "nbformat": 4,
 "nbformat_minor": 2
}
